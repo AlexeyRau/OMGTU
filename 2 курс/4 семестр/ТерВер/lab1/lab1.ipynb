{
 "cells": [
  {
   "cell_type": "markdown",
   "metadata": {},
   "source": [
    "## *Лабораторная работа № 1*\n",
    "### *«Проверка гипотезы о законе распределения генеральной совокупности»*\n",
    "В результате опыта была получена выборочная совокупность.\n",
    "\n",
    "Задание:\n",
    "1) Составить вариационный ряд.\n",
    "2) Построить интервальный статистический ряд.\n",
    "3) По сгруппированным данным построить полигон относительных частот, гистограмму относительных частот,\n",
    "4) Построить график эмпирической функции распределения.\n",
    "5) Найти числовые характеристики выборки: выборочное среднее, исправленную выборочную дисперсию, моду, медиану, эксцесс, асимметрию.\n",
    "6) По виду гистограммы и эмпирической функции распределения выборки выдвинуть гипотезу о распределении генеральной совокупности.\n",
    "7) Найти оценки параметров предполагаемого распределения генеральной совокупности.\n",
    "8) Построить на чертеже гистограммы и эмпирической функции её теоретические аналоги f(x) и F(x).\n",
    "9) Проверить выполнение правила «трех сигма».\n",
    "10) Применить критерий согласия Пирсона принять или опровергнуть выдвинутую гипотезу о распределении генеральной совокупности.\n",
    "11) Найти доверительные интервалы для генеральной средней и генерального среднеквадратического отклонения по уровню надежности γ = 0,95.\n",
    "\n",
    "#### Вариант 14\n",
    "18,5; 19,0; 20,6; 18,4; 18,3; 19,2 18,5; 20,3; 18,6; 20,6; 18,5; 18,3; 19,1; 21,0; 18,6; 19,1; 18,4; 19,9; 18,7; 19,5; 18,4; 21,6; 18,9; 19,5; 20,1; 19,4; 19,0; 19,2; 19,7; 19,9; 19,5; 20,0; 18,4; 18,3; 19,6; 18,8; 23,1; 19,6; 18,5; 20,7; 18,7; 18,7; 22,8; 18,9; 20,2; 19,0; 19,2; 19,6; 18,9; 20,3; 21,0; 18,9; 20,3; 18,3; 19,5; 18,5;18,5; 18,6; 19,3; 18,6."
   ]
  },
  {
   "cell_type": "markdown",
   "metadata": {},
   "source": [
    "# 1. Составить вариационный ряд"
   ]
  },
  {
   "cell_type": "code",
   "execution_count": 22,
   "metadata": {},
   "outputs": [],
   "source": [
    "import pandas as pd\n",
    "import numpy as np\n",
    "import matplotlib.pyplot as plt"
   ]
  },
  {
   "cell_type": "code",
   "execution_count": 19,
   "metadata": {},
   "outputs": [
    {
     "name": "stdout",
     "output_type": "stream",
     "text": [
      "Начальная выборка: [18.5, 19.0, 20.6, 18.4, 18.3, 19.2, 18.5, 20.3, 18.6, 20.6, 18.5, 18.3, 19.1, 21.0, 18.6, 19.1, 18.4, 19.9, 18.7, 19.5, 18.4, 21.6, 18.9, 19.5, 20.1, 19.4, 19.0, 19.2, 19.7, 19.9, 19.5, 20.0, 18.4, 18.3, 19.6, 18.8, 23.1, 19.6, 18.5, 20.7, 18.7, 18.7, 22.8, 18.9, 20.2, 19.0, 19.2, 19.6, 18.9, 20.3, 21.0, 18.9, 20.3, 18.3, 19.5, 18.5, 18.5, 18.6, 19.3, 18.6]\n"
     ]
    }
   ],
   "source": [
    "data = [18.5, 19.0, 20.6, 18.4, 18.3, 19.2, 18.5, 20.3, 18.6, 20.6, 18.5, 18.3, 19.1, 21.0, 18.6, 19.1, 18.4, 19.9, 18.7, 19.5, 18.4, 21.6, 18.9, 19.5, 20.1, 19.4, 19.0, 19.2, 19.7, 19.9, 19.5, 20.0, 18.4, 18.3, 19.6, 18.8, 23.1, 19.6, 18.5, 20.7, 18.7, 18.7, 22.8, 18.9, 20.2, 19.0, 19.2, 19.6, 18.9, 20.3, 21.0, 18.9, 20.3, 18.3, 19.5, 18.5, 18.5, 18.6, 19.3, 18.6]\n",
    "print(f\"Начальная выборка: {data}\")"
   ]
  },
  {
   "cell_type": "code",
   "execution_count": 20,
   "metadata": {},
   "outputs": [
    {
     "name": "stdout",
     "output_type": "stream",
     "text": [
      "Вариационный ряд: [18.3, 18.3, 18.3, 18.3, 18.4, 18.4, 18.4, 18.4, 18.5, 18.5, 18.5, 18.5, 18.5, 18.5, 18.6, 18.6, 18.6, 18.6, 18.7, 18.7, 18.7, 18.8, 18.9, 18.9, 18.9, 18.9, 19.0, 19.0, 19.0, 19.1, 19.1, 19.2, 19.2, 19.2, 19.3, 19.4, 19.5, 19.5, 19.5, 19.5, 19.6, 19.6, 19.6, 19.7, 19.9, 19.9, 20.0, 20.1, 20.2, 20.3, 20.3, 20.3, 20.6, 20.6, 20.7, 21.0, 21.0, 21.6, 22.8, 23.1]\n"
     ]
    }
   ],
   "source": [
    "variation_series = sorted(data)\n",
    "print(f\"Вариационный ряд: {variation_series}\")"
   ]
  },
  {
   "cell_type": "code",
   "execution_count": 21,
   "metadata": {},
   "outputs": [
    {
     "name": "stdout",
     "output_type": "stream",
     "text": [
      "\n",
      "Интервальный статистический ряд:\n",
      "   Интервал  Частота\n",
      "0  (18, 19]       29\n",
      "1  (19, 20]       18\n",
      "2  (20, 21]       10\n",
      "3  (21, 22]        1\n",
      "4  (22, 23]        1\n",
      "5  (23, 24]        1\n"
     ]
    },
    {
     "data": {
      "image/png": "[encoded data removed]",
      "text/plain": [
       "<Figure size 640x480 with 1 Axes>"
      ]
     },
     "metadata": {},
     "output_type": "display_data"
    }
   ],
   "source": [
    "# Зададим интервалы вручную (например, от 18 до 24 с шагом 1)\n",
    "intervals = pd.interval_range(start=18, end=24, freq=1, closed='right')\n",
    "\n",
    "# Группируем данные по интервалам\n",
    "interval_series = pd.cut(data, bins=intervals).value_counts().sort_index()\n",
    "\n",
    "# Преобразуем в DataFrame для красивого вывода\n",
    "interval_series = interval_series.reset_index()\n",
    "interval_series.columns = ['Интервал', 'Частота']\n",
    "\n",
    "print(\"\\nИнтервальный статистический ряд:\")\n",
    "print(interval_series)\n",
    "\n",
    "# Построение гистограммы\n",
    "plt.title('Гистограмма интервального статистического ряда')\n",
    "plt.xlabel('Интервалы')\n",
    "plt.ylabel('Частота')\n",
    "plt.show()"
   ]
  }
 ],
 "metadata": {
  "kernelspec": {
   "display_name": "Python 3",
   "language": "python",
   "name": "python3"
  },
  "language_info": {
   "codemirror_mode": {
    "name": "ipython",
    "version": 3
   },
   "file_extension": ".py",
   "mimetype": "text/x-python",
   "name": "python",
   "nbconvert_exporter": "python",
   "pygments_lexer": "ipython3",
   "version": "3.11.9"
  }
 },
 "nbformat": 4,
 "nbformat_minor": 2
}
