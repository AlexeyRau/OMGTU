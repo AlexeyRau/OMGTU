{
 "cells": [
  {
   "cell_type": "code",
   "execution_count": 9,
   "id": "6b251745",
   "metadata": {},
   "outputs": [],
   "source": [
    "import pandas as pd\n",
    "import numpy as np\n",
    "import random\n",
    "from sklearn.model_selection import train_test_split\n",
    "from sklearn.preprocessing import StandardScaler, OneHotEncoder, OrdinalEncoder\n",
    "from sklearn.compose import ColumnTransformer\n",
    "from sklearn.pipeline import Pipeline\n",
    "from sklearn.metrics import accuracy_score\n",
    "from sklearn.ensemble import RandomForestClassifier\n",
    "from sklearn.linear_model import LogisticRegression\n",
    "from sklearn.svm import SVC\n",
    "from sklearn.tree import DecisionTreeClassifier\n",
    "from sklearn.naive_bayes import GaussianNB\n",
    "import joblib"
   ]
  },
  {
   "cell_type": "markdown",
   "id": "da20cb79",
   "metadata": {},
   "source": [
    "## Лабораторная работа 2"
   ]
  },
  {
   "cell_type": "markdown",
   "id": "4dab6357",
   "metadata": {},
   "source": [
    "### Задание 1"
   ]
  },
  {
   "cell_type": "code",
   "execution_count": 10,
   "id": "1cd40e4d",
   "metadata": {},
   "outputs": [],
   "source": [
    "def generate_dataset(num_samples):\n",
    "    data = []\n",
    "    for _ in range(num_samples):\n",
    "        object1_state = [\n",
    "            random.choice([0, 1]),\n",
    "            random.choice(['Сфера', 'Куб', 'Пирамида']),  # Номинальный признак\n",
    "            random.choice(['Вперед', 'Назад', 'Лево', 'Право']),  # Порядковый признак\n",
    "            random.uniform(0, 360)  # Количественный признак\n",
    "        ]\n",
    "        \n",
    "        # Состояние объекта 2\n",
    "        object2_state = [\n",
    "            random.choice([0, 1]),  # Бинарный признак\n",
    "            random.choice(['Сфера', 'Куб', 'Пирамида']),  # Номинальный признак\n",
    "            random.choice(['Вперед', 'Назад', 'Лево', 'Право']),  # Порядковый признак\n",
    "            random.uniform(0, 360)  # Количественный признак\n",
    "        ]\n",
    "        \n",
    "        collision = random.choice(['Да', 'Нет'])\n",
    "        \n",
    "        data.append(object1_state + object2_state + [collision])\n",
    "    \n",
    "    columns = [\n",
    "        'Объект1_Бинарный', 'Объект1_Форма', 'Объект1_Направление', 'Объект1_Угол',\n",
    "        'Объект2_Бинарный', 'Объект2_Форма', 'Объект2_Направление', 'Объект2_Угол',\n",
    "        'Коллизия'\n",
    "    ]\n",
    "    return pd.DataFrame(data, columns=columns)\n",
    "\n",
    "datasets = []\n",
    "sample_ranges = [(30, 100), (100, 500), (500, 1000), (1000, 2000)]\n",
    "feature_ranges = ['4-7', '8-10', '10+']\n",
    "\n",
    "for sample_range in sample_ranges:\n",
    "    for _ in range(3):\n",
    "        num_samples = random.randint(*sample_range)\n",
    "        dataset = generate_dataset(num_samples)\n",
    "        datasets.append(dataset)\n",
    "\n",
    "for i, dataset in enumerate(datasets):\n",
    "    dataset.to_csv(f'dataset_v2_{i+1}.csv', index=False)"
   ]
  },
  {
   "cell_type": "markdown",
   "id": "cc2752b6",
   "metadata": {},
   "source": [
    "### Задание 2"
   ]
  },
  {
   "cell_type": "code",
   "execution_count": 11,
   "id": "6d6ee152",
   "metadata": {},
   "outputs": [
    {
     "name": "stdout",
     "output_type": "stream",
     "text": [
      "Logistic Regression: Accuracy = 0.7143\n",
      "Decision Tree: Accuracy = 0.8571\n",
      "Random Forest: Accuracy = 0.5714\n",
      "SVM: Accuracy = 0.5714\n",
      "Naive Bayes: Accuracy = 0.7143\n",
      "\n",
      "Результаты точности моделей:\n",
      "Logistic Regression: 0.7143\n",
      "Decision Tree: 0.8571\n",
      "Random Forest: 0.5714\n",
      "SVM: 0.5714\n",
      "Naive Bayes: 0.7143\n"
     ]
    }
   ],
   "source": [
    "df = datasets[0]\n",
    "\n",
    "X = df.drop('Коллизия', axis=1)\n",
    "y = df['Коллизия']\n",
    "\n",
    "X_train, X_test, y_train, y_test = train_test_split(X, y, test_size=0.2, random_state=42)\n",
    "\n",
    "numeric_features = ['Объект1_Угол', 'Объект2_Угол']\n",
    "numeric_transformer = StandardScaler()\n",
    "\n",
    "categorical_features = ['Объект1_Форма', 'Объект1_Направление', 'Объект2_Форма', 'Объект2_Направление']\n",
    "categorical_transformer = OneHotEncoder(handle_unknown='ignore')\n",
    "\n",
    "binary_features = ['Объект1_Бинарный', 'Объект2_Бинарный']\n",
    "binary_transformer = 'passthrough'\n",
    "\n",
    "preprocessor = ColumnTransformer(\n",
    "    transformers=[\n",
    "        ('num', numeric_transformer, numeric_features),\n",
    "        ('cat', categorical_transformer, categorical_features),\n",
    "        ('bin', binary_transformer, binary_features)\n",
    "    ])\n",
    "\n",
    "models = {\n",
    "    # Логистическая регрессия - быстрый и интерпретируемый алгоритм\n",
    "    'Logistic Regression': LogisticRegression(max_iter=1000),\n",
    "    # Решающее дерево - быстрый и не требует масштабирования данных\n",
    "    'Decision Tree': DecisionTreeClassifier(),\n",
    "    # Случайный лес - устойчив к переобучению, хорош для разнородных данных\n",
    "    'Random Forest': RandomForestClassifier(),\n",
    "    # SVM - хорош для сложных границ решений, но требует больше ресурсов\n",
    "    'SVM': SVC(probability=True),\n",
    "    # Наивный Байес - очень быстрый, хорошо работает с категориальными данными\n",
    "    'Naive Bayes': GaussianNB()\n",
    "}\n",
    "\n",
    "results = {}\n",
    "for name, model in models.items():\n",
    "    pipeline = Pipeline(steps=[\n",
    "        ('preprocessor', preprocessor),\n",
    "        ('classifier', model)\n",
    "    ])\n",
    "    \n",
    "    pipeline.fit(X_train, y_train)\n",
    "    y_pred = pipeline.predict(X_test)\n",
    "    accuracy = accuracy_score(y_test, y_pred)\n",
    "    results[name] = accuracy\n",
    "    \n",
    "    joblib.dump(pipeline, f'{name.replace(\" \", \"_\")}_v2_model.pkl')\n",
    "    print(f'{name}: Accuracy = {accuracy:.4f}')\n",
    "\n",
    "print(\"\\nРезультаты точности моделей:\")\n",
    "for name, accuracy in results.items():\n",
    "    print(f\"{name}: {accuracy:.4f}\")"
   ]
  },
  {
   "cell_type": "code",
   "execution_count": 12,
   "id": "226c9354",
   "metadata": {},
   "outputs": [
    {
     "name": "stdout",
     "output_type": "stream",
     "text": [
      "\n",
      "Лучшая модель: Decision Tree с точностью 0.8571\n",
      "\n",
      "Пример предсказания для строки:\n",
      "    Объект1_Бинарный Объект1_Форма Объект1_Направление  Объект1_Угол  \\\n",
      "26                 0      Пирамида               Право     85.140066   \n",
      "\n",
      "    Объект2_Бинарный Объект2_Форма Объект2_Направление  Объект2_Угол  \n",
      "26                 1      Пирамида               Назад    198.461156  \n",
      "Предсказание: Нет\n",
      "Реальное значение: Нет\n"
     ]
    }
   ],
   "source": [
    "# Определение лучшей модели\n",
    "best_model_name = max(results, key=results.get)\n",
    "best_model_accuracy = results[best_model_name]\n",
    "print(f\"\\nЛучшая модель: {best_model_name} с точностью {best_model_accuracy:.4f}\")\n",
    "\n",
    "# Пример использования сохраненной модели\n",
    "loaded_model = joblib.load(f'{best_model_name.replace(\" \", \"_\")}_v2_model.pkl')\n",
    "sample_data = X_test.iloc[[0]]\n",
    "prediction = loaded_model.predict(sample_data)\n",
    "print(f\"\\nПример предсказания для строки:\\n{sample_data}\\nПредсказание: {prediction[0]}\")\n",
    "print(f\"Реальное значение: {y_test.iloc[0]}\")"
   ]
  }
 ],
 "metadata": {
  "kernelspec": {
   "display_name": "Python 3",
   "language": "python",
   "name": "python3"
  },
  "language_info": {
   "codemirror_mode": {
    "name": "ipython",
    "version": 3
   },
   "file_extension": ".py",
   "mimetype": "text/x-python",
   "name": "python",
   "nbconvert_exporter": "python",
   "pygments_lexer": "ipython3",
   "version": "3.12.6"
  }
 },
 "nbformat": 4,
 "nbformat_minor": 5
}
