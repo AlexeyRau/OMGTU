{
 "cells": [
  {
   "cell_type": "code",
   "execution_count": 14,
   "id": "6b251745",
   "metadata": {},
   "outputs": [],
   "source": [
    "import pandas as pd\n",
    "import numpy as np\n",
    "import random\n",
    "from sklearn.model_selection import train_test_split, cross_val_score\n",
    "from sklearn.preprocessing import StandardScaler, OneHotEncoder\n",
    "from sklearn.compose import ColumnTransformer\n",
    "from sklearn.pipeline import Pipeline\n",
    "from sklearn.metrics import accuracy_score\n",
    "from sklearn.ensemble import RandomForestClassifier\n",
    "from sklearn.linear_model import LogisticRegression\n",
    "from sklearn.svm import SVC\n",
    "from sklearn.tree import DecisionTreeClassifier\n",
    "from sklearn.naive_bayes import GaussianNB\n",
    "import joblib\n",
    "import pygad\n",
    "import pyswarms as ps\n",
    "import neat\n",
    "from neat.config import Config\n",
    "from neat.genome import DefaultGenome\n",
    "from neat.reproduction import DefaultReproduction\n",
    "from neat.species import DefaultSpeciesSet\n",
    "from neat.stagnation import DefaultStagnation\n",
    "from neat.nn import FeedForwardNetwork\n",
    "import pickle"
   ]
  },
  {
   "cell_type": "markdown",
   "id": "da20cb79",
   "metadata": {},
   "source": [
    "## Лабораторная работа 2"
   ]
  },
  {
   "cell_type": "markdown",
   "id": "4dab6357",
   "metadata": {},
   "source": [
    "### Задание 1"
   ]
  },
  {
   "cell_type": "code",
   "execution_count": 15,
   "id": "1cd40e4d",
   "metadata": {},
   "outputs": [],
   "source": [
    "def generate_dataset(num_samples):\n",
    "    data = []\n",
    "    for _ in range(num_samples):\n",
    "        object1_state = [\n",
    "            random.choice([0, 1]),\n",
    "            random.choice(['Сфера', 'Куб', 'Пирамида']),  # Номинальный признак\n",
    "            random.choice(['Вперед', 'Назад', 'Лево', 'Право']),  # Порядковый признак\n",
    "            random.uniform(0, 360)  # Количественный признак\n",
    "        ]\n",
    "        \n",
    "        # Состояние объекта 2\n",
    "        object2_state = [\n",
    "            random.choice([0, 1]),  # Бинарный признак\n",
    "            random.choice(['Сфера', 'Куб', 'Пирамида']),  # Номинальный признак\n",
    "            random.choice(['Вперед', 'Назад', 'Лево', 'Право']),  # Порядковый признак\n",
    "            random.uniform(0, 360)  # Количественный признак\n",
    "        ]\n",
    "        \n",
    "        collision = random.choice(['Да', 'Нет'])\n",
    "        \n",
    "        data.append(object1_state + object2_state + [collision])\n",
    "    \n",
    "    columns = [\n",
    "        'Объект1_Бинарный', 'Объект1_Форма', 'Объект1_Направление', 'Объект1_Угол',\n",
    "        'Объект2_Бинарный', 'Объект2_Форма', 'Объект2_Направление', 'Объект2_Угол',\n",
    "        'Коллизия'\n",
    "    ]\n",
    "    return pd.DataFrame(data, columns=columns)\n",
    "\n",
    "datasets = []\n",
    "sample_ranges = [(30, 100), (100, 500), (500, 1000), (1000, 2000)]\n",
    "feature_ranges = ['4-7', '8-10', '10+']\n",
    "\n",
    "for sample_range in sample_ranges:\n",
    "    for _ in range(3):\n",
    "        num_samples = random.randint(*sample_range)\n",
    "        dataset = generate_dataset(num_samples)\n",
    "        datasets.append(dataset)\n",
    "\n",
    "for i, dataset in enumerate(datasets):\n",
    "    dataset.to_csv(f'dataset_{i+1}.csv', index=False)"
   ]
  },
  {
   "cell_type": "markdown",
   "id": "cc2752b6",
   "metadata": {},
   "source": [
    "### Задание 2"
   ]
  },
  {
   "cell_type": "code",
   "execution_count": 16,
   "id": "6d6ee152",
   "metadata": {},
   "outputs": [
    {
     "name": "stdout",
     "output_type": "stream",
     "text": [
      "Logistic Regression: Accuracy = 0.4737\n",
      "Decision Tree: Accuracy = 0.5789\n",
      "Random Forest: Accuracy = 0.4737\n",
      "SVM: Accuracy = 0.5263\n",
      "Naive Bayes: Accuracy = 0.5263\n",
      "\n",
      "Результаты точности моделей:\n",
      "Logistic Regression: 0.4737\n",
      "Decision Tree: 0.5789\n",
      "Random Forest: 0.4737\n",
      "SVM: 0.5263\n",
      "Naive Bayes: 0.5263\n"
     ]
    }
   ],
   "source": [
    "df = datasets[0]\n",
    "\n",
    "X = df.drop('Коллизия', axis=1)\n",
    "y = df['Коллизия']\n",
    "\n",
    "X_train, X_test, y_train, y_test = train_test_split(X, y, test_size=0.2, random_state=42)\n",
    "\n",
    "numeric_features = ['Объект1_Угол', 'Объект2_Угол']\n",
    "numeric_transformer = StandardScaler()\n",
    "\n",
    "categorical_features = ['Объект1_Форма', 'Объект1_Направление', 'Объект2_Форма', 'Объект2_Направление']\n",
    "categorical_transformer = OneHotEncoder(handle_unknown='ignore')\n",
    "\n",
    "binary_features = ['Объект1_Бинарный', 'Объект2_Бинарный']\n",
    "binary_transformer = 'passthrough'\n",
    "\n",
    "preprocessor = ColumnTransformer(\n",
    "    transformers=[\n",
    "        ('num', numeric_transformer, numeric_features),\n",
    "        ('cat', categorical_transformer, categorical_features),\n",
    "        ('bin', binary_transformer, binary_features)\n",
    "    ])\n",
    "\n",
    "models = {\n",
    "    # Логистическая регрессия - быстрый и интерпретируемый алгоритм\n",
    "    'Logistic Regression': LogisticRegression(max_iter=1000),\n",
    "    # Решающее дерево - быстрый и не требует масштабирования данных\n",
    "    'Decision Tree': DecisionTreeClassifier(),\n",
    "    # Случайный лес - устойчив к переобучению, хорош для разнородных данных\n",
    "    'Random Forest': RandomForestClassifier(),\n",
    "    # SVM - хорош для сложных границ решений, но требует больше ресурсов\n",
    "    'SVM': SVC(probability=True),\n",
    "    # Наивный Байес - очень быстрый, хорошо работает с категориальными данными\n",
    "    'Naive Bayes': GaussianNB()\n",
    "}\n",
    "\n",
    "results = {}\n",
    "for name, model in models.items():\n",
    "    pipeline = Pipeline(steps=[\n",
    "        ('preprocessor', preprocessor),\n",
    "        ('classifier', model)\n",
    "    ])\n",
    "    \n",
    "    pipeline.fit(X_train, y_train)\n",
    "    y_pred = pipeline.predict(X_test)\n",
    "    accuracy = accuracy_score(y_test, y_pred)\n",
    "    results[name] = accuracy\n",
    "    \n",
    "    joblib.dump(pipeline, f'{name.replace(\" \", \"_\")}_v2_model.pkl')\n",
    "    print(f'{name}: Accuracy = {accuracy:.4f}')\n",
    "\n",
    "print(\"\\nРезультаты точности моделей:\")\n",
    "for name, accuracy in results.items():\n",
    "    print(f\"{name}: {accuracy:.4f}\")"
   ]
  },
  {
   "cell_type": "code",
   "execution_count": 17,
   "id": "226c9354",
   "metadata": {},
   "outputs": [
    {
     "name": "stdout",
     "output_type": "stream",
     "text": [
      "\n",
      "Лучшая модель: Decision Tree с точностью 0.5789\n",
      "\n",
      "Пример предсказания для строки:\n",
      "    Объект1_Бинарный Объект1_Форма Объект1_Направление  Объект1_Угол  \\\n",
      "40                 0      Пирамида               Назад    139.623601   \n",
      "\n",
      "    Объект2_Бинарный Объект2_Форма Объект2_Направление  Объект2_Угол  \n",
      "40                 0           Куб               Назад    282.110931  \n",
      "Предсказание: Нет\n",
      "Реальное значение: Да\n"
     ]
    }
   ],
   "source": [
    "best_model_name = max(results, key=results.get)\n",
    "best_model_accuracy = results[best_model_name]\n",
    "print(f\"\\nЛучшая модель: {best_model_name} с точностью {best_model_accuracy:.4f}\")\n",
    "\n",
    "loaded_model = joblib.load(f'{best_model_name.replace(\" \", \"_\")}_v2_model.pkl')\n",
    "sample_data = X_test.iloc[[0]]\n",
    "prediction = loaded_model.predict(sample_data)\n",
    "print(f\"\\nПример предсказания для строки:\\n{sample_data}\\nПредсказание: {prediction[0]}\")\n",
    "print(f\"Реальное значение: {y_test.iloc[0]}\")"
   ]
  },
  {
   "cell_type": "markdown",
   "id": "90b90bca",
   "metadata": {},
   "source": [
    "## Лабораторная работа 3"
   ]
  },
  {
   "cell_type": "markdown",
   "id": "fe249085",
   "metadata": {},
   "source": [
    "### PyGAD"
   ]
  },
  {
   "cell_type": "code",
   "execution_count": null,
   "id": "eddc0b80",
   "metadata": {},
   "outputs": [],
   "source": []
  },
  {
   "cell_type": "markdown",
   "id": "3df188d1",
   "metadata": {},
   "source": [
    "### PSO"
   ]
  },
  {
   "cell_type": "code",
   "execution_count": null,
   "id": "779e8769",
   "metadata": {},
   "outputs": [],
   "source": []
  },
  {
   "cell_type": "markdown",
   "id": "96c4eb14",
   "metadata": {},
   "source": [
    "### NEAT"
   ]
  },
  {
   "cell_type": "code",
   "execution_count": null,
   "id": "70464a5f",
   "metadata": {},
   "outputs": [],
   "source": []
  },
  {
   "cell_type": "markdown",
   "id": "17bb0078",
   "metadata": {},
   "source": [
    "### ES-HyperNEAT"
   ]
  },
  {
   "cell_type": "code",
   "execution_count": null,
   "id": "a684fda2",
   "metadata": {},
   "outputs": [],
   "source": []
  }
 ],
 "metadata": {
  "kernelspec": {
   "display_name": "Python 3",
   "language": "python",
   "name": "python3"
  },
  "language_info": {
   "codemirror_mode": {
    "name": "ipython",
    "version": 3
   },
   "file_extension": ".py",
   "mimetype": "text/x-python",
   "name": "python",
   "nbconvert_exporter": "python",
   "pygments_lexer": "ipython3",
   "version": "3.11.9"
  }
 },
 "nbformat": 4,
 "nbformat_minor": 5
}
