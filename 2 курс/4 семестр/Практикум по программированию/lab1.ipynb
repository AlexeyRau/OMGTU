{
 "cells": [
  {
   "cell_type": "markdown",
   "metadata": {},
   "source": [
    "### Задание №1: Фильтр Блума"
   ]
  },
  {
   "cell_type": "markdown",
   "metadata": {},
   "source": [
    "##### 1. Реализация фильтра Блума"
   ]
  },
  {
   "cell_type": "code",
   "execution_count": 17,
   "metadata": {},
   "outputs": [
    {
     "name": "stdout",
     "output_type": "stream",
     "text": [
      "True\n",
      "False\n"
     ]
    }
   ],
   "source": [
    "import hashlib\n",
    "\n",
    "class BloomFilter:\n",
    "    def __init__(self, size, hash_count):\n",
    "        self.size = size\n",
    "        self.hash_count = hash_count\n",
    "        self.bit_array = [0] * size\n",
    "\n",
    "    def _hash(self, item, seed):\n",
    "        hash_value = int(hashlib.md5((str(item) + str(seed)).encode()).hexdigest(), 16)\n",
    "        return hash_value % self.size\n",
    "\n",
    "    def add(self, item):\n",
    "        for seed in range(self.hash_count):\n",
    "            index = self._hash(item, seed)\n",
    "            self.bit_array[index] = 1\n",
    "\n",
    "    def __contains__(self, item):\n",
    "        for seed in range(self.hash_count):\n",
    "            index = self._hash(item, seed)\n",
    "            if self.bit_array[index] == 0:\n",
    "                return False\n",
    "        return True\n",
    "\n",
    "bloom = BloomFilter(size=100, hash_count=3)\n",
    "bloom.add(\"a\")\n",
    "bloom.add(\"b\")\n",
    "\n",
    "print(\"a\" in bloom)  \n",
    "print(\"c\" in bloom)  "
   ]
  },
  {
   "cell_type": "markdown",
   "metadata": {},
   "source": [
    "##### 2. Определение процента ложноположительных срабатываний"
   ]
  },
  {
   "cell_type": "code",
   "execution_count": 18,
   "metadata": {},
   "outputs": [
    {
     "name": "stdout",
     "output_type": "stream",
     "text": [
      "Процент ложноположительных срабатываний: 0.00%\n"
     ]
    }
   ],
   "source": [
    "def false_positive_rate(bloom, test_items, actual_items):\n",
    "    false_positives = 0\n",
    "    for item in test_items:\n",
    "        if item in bloom and item not in actual_items:\n",
    "            false_positives += 1\n",
    "    return false_positives / len(test_items)\n",
    "\n",
    "actual_items = [\"a\", \"b\", \"c\"]\n",
    "test_items = [\"a\", \"b\", \"c\", \"d\", \"e\", \"f\"]\n",
    "\n",
    "bloom = BloomFilter(size=100, hash_count=3)\n",
    "for item in actual_items:\n",
    "    bloom.add(item)\n",
    "\n",
    "rate = false_positive_rate(bloom, test_items, actual_items)\n",
    "print(f\"Процент ложноположительных срабатываний: {rate * 100:.2f}%\")"
   ]
  },
  {
   "cell_type": "markdown",
   "metadata": {},
   "source": [
    "##### 3. Оценка зависимости ложноположительных срабатываний от размерности массива и числа хеш-функций\n"
   ]
  },
  {
   "cell_type": "code",
   "execution_count": 19,
   "metadata": {},
   "outputs": [
    {
     "data": {
      "image/png": "[encoded data removed]",
      "text/plain": [
       "<Figure size 640x480 with 1 Axes>"
      ]
     },
     "metadata": {},
     "output_type": "display_data"
    }
   ],
   "source": [
    "import matplotlib.pyplot as plt\n",
    "\n",
    "def evaluate_bloom_filter(size_range, hash_count_range, actual_items, test_items):\n",
    "    results = []\n",
    "    for size in size_range:\n",
    "        for hash_count in hash_count_range:\n",
    "            bloom = BloomFilter(size=size, hash_count=hash_count)\n",
    "            for item in actual_items:\n",
    "                bloom.add(item)\n",
    "            rate = false_positive_rate(bloom, test_items, actual_items)\n",
    "            results.append((size, hash_count, rate))\n",
    "    return results\n",
    "\n",
    "size_range = range(50, 200, 50)\n",
    "hash_count_range = range(1, 5)\n",
    "actual_items = [\"a\", \"b\", \"c\"]\n",
    "test_items = [\"a\", \"b\", \"c\", \"d\", \"e\", \"f\"]\n",
    "\n",
    "results = evaluate_bloom_filter(size_range, hash_count_range, actual_items, test_items)\n",
    "\n",
    "for hash_count in hash_count_range:\n",
    "    x = [size for size, hc, rate in results if hc == hash_count]\n",
    "    y = [rate for size, hc, rate in results if hc == hash_count]\n",
    "    plt.plot(x, y, label=f\"Hash functions: {hash_count}\")\n",
    "\n",
    "plt.xlabel(\"Size of bit array\")\n",
    "plt.ylabel(\"False positive rate\")\n",
    "plt.legend()\n",
    "plt.show()"
   ]
  }
 ],
 "metadata": {
  "kernelspec": {
   "display_name": "Python 3",
   "language": "python",
   "name": "python3"
  },
  "language_info": {
   "codemirror_mode": {
    "name": "ipython",
    "version": 3
   },
   "file_extension": ".py",
   "mimetype": "text/x-python",
   "name": "python",
   "nbconvert_exporter": "python",
   "pygments_lexer": "ipython3",
   "version": "3.11.9"
  }
 },
 "nbformat": 4,
 "nbformat_minor": 2
}
